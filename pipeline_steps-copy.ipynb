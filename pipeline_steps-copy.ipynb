{
  "cells": [
    {
      "cell_type": "code",
      "source": [
        "# import os\r\n",
        "# # Create a folder for the pipeline step files\r\n",
        "# experiment_folder = 'Ams_pipeline'\r\n",
        "# os.makedirs(experiment_folder, exist_ok=True)\r\n",
        "\r\n",
        "# print(experiment_folder)"
      ],
      "outputs": [],
      "execution_count": 1,
      "metadata": {
        "gather": {
          "logged": 1654702695199
        }
      }
    },
    {
      "cell_type": "code",
      "source": [
        "# import azureml.core\r\n",
        "# from azureml.core import Workspace\r\n",
        "\r\n",
        "# # Load the workspace from the saved config file\r\n",
        "# ws = Workspace.from_config()\r\n",
        "# print('Ready to use Azure ML {} to work with {}'.format(azureml.core.VERSION, ws.name))\r\n",
        "# ws.get_details()"
      ],
      "outputs": [],
      "execution_count": 2,
      "metadata": {
        "jupyter": {
          "source_hidden": false,
          "outputs_hidden": false
        },
        "nteract": {
          "transient": {
            "deleting": false
          }
        },
        "gather": {
          "logged": 1654702695382
        }
      }
    },
    {
      "cell_type": "code",
      "source": [
        "from azureml.core.compute import ComputeTarget, AmlCompute\r\n",
        "from azureml.core.compute_target import ComputeTargetException\r\n",
        "\r\n",
        "cluster_name = \"tcp0044uc001-d993912\"\r\n",
        "\r\n",
        "try:\r\n",
        "    # Check for existing compute target\r\n",
        "    pipeline_cluster = ComputeTarget(workspace=ws, name=cluster_name)\r\n",
        "    print('Found existing cluster, use it.')\r\n",
        "except ComputeTargetException:\r\n",
        "    # If it doesn't already exist, create it\r\n",
        "    try:\r\n",
        "        compute_config = AmlCompute.provisioning_configuration(vm_size='STANDARD_DS11_V2', max_nodes=2)\r\n",
        "        pipeline_cluster = ComputeTarget.create(ws, cluster_name, compute_config)\r\n",
        "        pipeline_cluster.wait_for_completion(show_output=True)\r\n",
        "    except Exception as ex:\r\n",
        "        print(ex)"
      ],
      "outputs": [
        {
          "output_type": "error",
          "ename": "NameError",
          "evalue": "name 'ws' is not defined",
          "traceback": [
            "\u001b[0;31m---------------------------------------------------------------------------\u001b[0m",
            "\u001b[0;31mNameError\u001b[0m                                 Traceback (most recent call last)",
            "\u001b[0;32m<ipython-input-3-106fa252ec11>\u001b[0m in \u001b[0;36m<module>\u001b[0;34m\u001b[0m\n\u001b[1;32m      6\u001b[0m \u001b[0;32mtry\u001b[0m\u001b[0;34m:\u001b[0m\u001b[0;34m\u001b[0m\u001b[0;34m\u001b[0m\u001b[0m\n\u001b[1;32m      7\u001b[0m     \u001b[0;31m# Check for existing compute target\u001b[0m\u001b[0;34m\u001b[0m\u001b[0;34m\u001b[0m\u001b[0;34m\u001b[0m\u001b[0m\n\u001b[0;32m----> 8\u001b[0;31m     \u001b[0mpipeline_cluster\u001b[0m \u001b[0;34m=\u001b[0m \u001b[0mComputeTarget\u001b[0m\u001b[0;34m(\u001b[0m\u001b[0mworkspace\u001b[0m\u001b[0;34m=\u001b[0m\u001b[0mws\u001b[0m\u001b[0;34m,\u001b[0m \u001b[0mname\u001b[0m\u001b[0;34m=\u001b[0m\u001b[0mcluster_name\u001b[0m\u001b[0;34m)\u001b[0m\u001b[0;34m\u001b[0m\u001b[0;34m\u001b[0m\u001b[0m\n\u001b[0m\u001b[1;32m      9\u001b[0m     \u001b[0mprint\u001b[0m\u001b[0;34m(\u001b[0m\u001b[0;34m'Found existing cluster, use it.'\u001b[0m\u001b[0;34m)\u001b[0m\u001b[0;34m\u001b[0m\u001b[0;34m\u001b[0m\u001b[0m\n\u001b[1;32m     10\u001b[0m \u001b[0;32mexcept\u001b[0m \u001b[0mComputeTargetException\u001b[0m\u001b[0;34m:\u001b[0m\u001b[0;34m\u001b[0m\u001b[0;34m\u001b[0m\u001b[0m\n",
            "\u001b[0;31mNameError\u001b[0m: name 'ws' is not defined"
          ]
        }
      ],
      "execution_count": 3,
      "metadata": {
        "jupyter": {
          "source_hidden": false,
          "outputs_hidden": false
        },
        "nteract": {
          "transient": {
            "deleting": false
          }
        },
        "gather": {
          "logged": 1654702695582
        }
      }
    },
    {
      "cell_type": "code",
      "source": [
        "%%writefile $experiment_folder/python_env2.yml\r\n",
        "\r\n",
        "name: python_env2\r\n",
        "\r\n",
        "dependencies:\r\n",
        "- python\r\n",
        "- anaconda\r\n",
        "- pyarrow\r\n",
        "- numpy\r\n",
        "- pandas\r\n",
        "- seaborn\r\n",
        "- joblib\r\n",
        "- shap\r\n",
        "- graphviz\r\n",
        "- tensorflow\r\n",
        "- pip\r\n",
        "- pip:\r\n",
        "      - azureml.sdk\r\n",
        "      - sklearn\r\n",
        "      - statsmodels\r\n",
        "     "
      ],
      "outputs": [],
      "execution_count": null,
      "metadata": {
        "jupyter": {
          "source_hidden": false,
          "outputs_hidden": false
        },
        "nteract": {
          "transient": {
            "deleting": false
          }
        }
      }
    },
    {
      "cell_type": "code",
      "source": [
        "\r\n",
        "# from azureml.core import Environment\r\n",
        "# from azureml.core.runconfig import RunConfiguration\r\n",
        "# from azureml.core.runconfig import DockerConfiguration\r\n",
        "# #from azureml.core import ScriptRunConfig\r\n",
        "\r\n",
        "# # Create a Python environment for the experiment (from a .yml file)\r\n",
        "# experiment_env = Environment.from_conda_specification(\"python_env2\", experiment_folder + \"/python_env2.yml\")\r\n",
        "\r\n",
        "\r\n",
        "# #Finally, use the environment in the ScriptRunConfig:\r\n",
        "# # src = ScriptRunConfig(source_directory=experiment_folder,\r\n",
        "#                        #script=experiment_env,\r\n",
        "#                        #arguments=EXECUTE_ARGUMENTS,\r\n",
        "#                        #compute_target=pipeline_cluster,\r\n",
        "#                        #environment=experiment_env,\r\n",
        "#                        #docker_runtime_config=docker_config)\r\n",
        "\r\n",
        "# # Register the environment \r\n",
        "# experiment_env.register(workspace=ws)\r\n",
        "# registered_env = Environment.get(ws, 'python_env2')\r\n",
        "\r\n",
        "# # Create a new runconfig object for the pipeline\r\n",
        "# pipeline_run_config = RunConfiguration()\r\n",
        "\r\n",
        "# # Use the compute you created above. \r\n",
        "# pipeline_run_config.target = pipeline_cluster\r\n",
        "\r\n",
        "# # Assign the environment to the run configuration\r\n",
        "# pipeline_run_config.environment = registered_env\r\n",
        "\r\n",
        "# print (\"Run configuration created.\")"
      ],
      "outputs": [],
      "execution_count": null,
      "metadata": {
        "jupyter": {
          "source_hidden": false,
          "outputs_hidden": false
        },
        "nteract": {
          "transient": {
            "deleting": false
          }
        },
        "gather": {
          "logged": 1654702695774
        }
      }
    },
    {
      "cell_type": "code",
      "source": [
        "from azureml.data import OutputFileDatasetConfig\r\n",
        "from azureml.pipeline.steps import PythonScriptStep\r\n",
        "\r\n",
        "# Get the training dataset\r\n",
        "# = ws.datasets.get(\"\")\r\n",
        "\r\n",
        "# Create an OutputFileDatasetConfig (temporary Data Reference) \r\n",
        "#prepped_data = OutputFileDatasetConfig(\"prepped_data\")\r\n",
        "\r\n",
        "# Run the data prep and train script\r\n",
        "prep_train_step = PythonScriptStep(name = \"Prepare & train Data\",\r\n",
        "                                source_directory = experiment_folder ,\r\n",
        "                                script_name = \"AMS_newdata_allmodels_ver2-copy.py\",\r\n",
        "                              #arguments = ['--input-data'.as_named_input('raw_data'),\r\n",
        "                                             #'--prepped-data', prepped_data],\r\n",
        "                                compute_target = pipeline_cluster,\r\n",
        "                                runconfig = pipeline_run_config,\r\n",
        "                                allow_reuse = True)"
      ],
      "outputs": [],
      "execution_count": null,
      "metadata": {
        "jupyter": {
          "source_hidden": false,
          "outputs_hidden": false
        },
        "nteract": {
          "transient": {
            "deleting": false
          }
        },
        "gather": {
          "logged": 1654702695790
        }
      }
    },
    {
      "cell_type": "code",
      "source": [
        "from azureml.core import Experiment\r\n",
        "from azureml.pipeline.core import Pipeline\r\n",
        "\r\n",
        "\r\n",
        "# Construct the pipeline\r\n",
        "pipeline_steps = [prep_train_step]\r\n",
        "pipeline = Pipeline(workspace=ws, steps=pipeline_steps)\r\n",
        "print(\"Pipeline is built.\")\r\n",
        "\r\n",
        "# Create an experiment and run the pipeline\r\n",
        "experiment = Experiment(workspace=ws, name = 'AMS_new_experiment')\r\n",
        "pipeline_run = experiment.submit(pipeline, regenerate_outputs=True)\r\n",
        "print(\"Pipeline submitted for execution.\")\r\n",
        "\r\n",
        "pipeline_run.wait_for_completion(show_output=True)"
      ],
      "outputs": [],
      "execution_count": null,
      "metadata": {
        "jupyter": {
          "source_hidden": false,
          "outputs_hidden": false
        },
        "nteract": {
          "transient": {
            "deleting": false
          }
        },
        "gather": {
          "logged": 1654702695811
        }
      }
    }
  ],
  "metadata": {
    "kernelspec": {
      "name": "python38-azureml",
      "language": "python",
      "display_name": "Python 3.8 - AzureML"
    },
    "language_info": {
      "name": "python",
      "version": "3.8.5",
      "mimetype": "text/x-python",
      "codemirror_mode": {
        "name": "ipython",
        "version": 3
      },
      "pygments_lexer": "ipython3",
      "nbconvert_exporter": "python",
      "file_extension": ".py"
    },
    "kernel_info": {
      "name": "python38-azureml"
    },
    "microsoft": {
      "host": {
        "AzureML": {
          "notebookHasBeenCompleted": true
        }
      }
    },
    "nteract": {
      "version": "nteract-front-end@1.0.0"
    }
  },
  "nbformat": 4,
  "nbformat_minor": 2
}